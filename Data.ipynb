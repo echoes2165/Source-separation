{
 "cells": [
  {
   "cell_type": "code",
   "execution_count": 4,
   "metadata": {
    "collapsed": true
   },
   "outputs": [],
   "source": [
    "import pandas as pd, numpy as np, librosa, IPython.display as ipd, matplotlib.pyplot as plt, os\n",
    "%matplotlib inline  "
   ]
  },
  {
   "cell_type": "code",
   "execution_count": 5,
   "metadata": {
    "collapsed": true
   },
   "outputs": [],
   "source": [
    "def extract_and_reshape(x):\n",
    "    Data = np.zeros([0,sr])\n",
    "\n",
    "    # Create a 1D array of zeros that has the length of missing data points to fill the last row of an array\n",
    "\n",
    "    data_missing = sr - (x.shape[0] - np.int(x.shape[0]/sr)*sr)\n",
    "\n",
    "    Add_to_last_row = np.zeros([data_missing,1])\n",
    "\n",
    "    x_reshaped = x.reshape((x.shape[0],1))\n",
    "\n",
    "    # add arrays and create final out\n",
    "\n",
    "    X = np.vstack((x_reshaped,Add_to_last_row))\n",
    "\n",
    "    Num_rows = np.int(X.shape[0]/sr)\n",
    "\n",
    "    Data = np.array(X).reshape((Num_rows,sr))\n",
    "    \n",
    "    return Data"
   ]
  },
  {
   "cell_type": "code",
   "execution_count": 7,
   "metadata": {},
   "outputs": [],
   "source": [
    "#Load the score table\n",
    "os.chdir('/Volumes/TOSHIBA/MSD100')\n",
    "Score = pd.read_excel('msd100.xlsx')\n",
    "Score = Score.drop(['Style','Duration'], axis=1).values.reshape([100])\n",
    "Score[60] = 'Patrick Talbot - Set Me Free'"
   ]
  },
  {
   "cell_type": "code",
   "execution_count": 8,
   "metadata": {},
   "outputs": [
    {
     "name": "stdout",
     "output_type": "stream",
     "text": [
      "(0, 5512) (0, 5512)\n"
     ]
    }
   ],
   "source": [
    "#sample rate \n",
    "\n",
    "sr = 5512\n",
    "Data_test = np.zeros([0,sr])\n",
    "Data_train = np.zeros([0,sr])\n",
    "print(Data_test.shape, Data_train.shape)"
   ]
  },
  {
   "cell_type": "code",
   "execution_count": 5,
   "metadata": {},
   "outputs": [
    {
     "name": "stdout",
     "output_type": "stream",
     "text": [
      "Progress: 0\n",
      "(197, 5512) (197, 5512)\n",
      "Progress: 5\n",
      "(599, 5512) (1176, 5512)\n",
      "Progress: 10\n",
      "(1254, 5512) (2242, 5512)\n",
      "Progress: 15\n",
      "(1916, 5512) (3648, 5512)\n",
      "Progress: 20\n",
      "(2916, 5512) (5121, 5512)\n",
      "Progress: 25\n",
      "(3362, 5512) (6452, 5512)\n",
      "Progress: 30\n",
      "(4064, 5512) (7510, 5512)\n",
      "Progress: 35\n",
      "(4691, 5512) (8871, 5512)\n",
      "Progress: 40\n",
      "(5285, 5512) (9914, 5512)\n",
      "Progress: 45\n",
      "(5795, 5512) (11160, 5512)\n",
      "Progress: 50\n",
      "(6578, 5512) (12399, 5512)\n",
      "Progress: 55\n",
      "(7004, 5512) (13636, 5512)\n",
      "Progress: 60\n",
      "(7816, 5512) (15052, 5512)\n",
      "Progress: 65\n",
      "(8265, 5512) (16257, 5512)\n",
      "Progress: 70\n",
      "(9097, 5512) (17507, 5512)\n",
      "Progress: 75\n",
      "(9719, 5512) (19015, 5512)\n",
      "Progress: 80\n",
      "(10592, 5512) (20442, 5512)\n",
      "Progress: 85\n",
      "(11115, 5512) (21661, 5512)\n",
      "Progress: 90\n",
      "(12001, 5512) (23139, 5512)\n",
      "Progress: 95\n",
      "(12453, 5512) (24180, 5512)\n"
     ]
    }
   ],
   "source": [
    "# for title in range(0,100):\n",
    "#     try:\n",
    "#         os.chdir(\"/Volumes/TOSHIBA/MSD100/Mixtures/Dev/\" + Score[title] +\"/\")\n",
    "#         x, _ = librosa.load('mixture.wav', sr=sr)\n",
    "#         Data = extract_and_reshape(x)\n",
    "#         Data_train = np.vstack([Data_train, Data])\n",
    "#         Data_test = np.vstack([Data_test, Data])\n",
    "#         if title % 5 == 0:\n",
    "#             print(\"Progress: \" + str(title))\n",
    "#             print(Data_train.shape, Data_test.shape)\n",
    "#     except:\n",
    "#         os.chdir(\"/Volumes/TOSHIBA/MSD100/Mixtures/Test/\" + Score[title] + \"/\")\n",
    "#         x, _ = librosa.load('mixture.wav', sr=sr)\n",
    "#         Data = extract_and_reshape(x)\n",
    "#         Data_test = np.vstack([Data_test, Data])\n",
    "#         if title % 5 == 0:\n",
    "#             print(\"Progress: \" + str(title))\n",
    "#             print(Data_train.shape, Data_test.shape)\n",
    "            \n",
    "# os.chdir('/Volumes/TOSHIBA/MSD100')\n",
    "# np.save(\"Data_test\", Data_test)\n",
    "# np.save(\"Data_train\", Data_train)"
   ]
  },
  {
   "cell_type": "code",
   "execution_count": 9,
   "metadata": {},
   "outputs": [
    {
     "name": "stdout",
     "output_type": "stream",
     "text": [
      "Progress: 0\n",
      "(197, 5512) (197, 5512)\n",
      "Progress: 5\n",
      "(599, 5512) (1176, 5512)\n",
      "Progress: 10\n",
      "(1254, 5512) (2242, 5512)\n",
      "Progress: 15\n",
      "(1916, 5512) (3648, 5512)\n",
      "Progress: 20\n",
      "(2916, 5512) (5121, 5512)\n",
      "Progress: 25\n",
      "(3362, 5512) (6452, 5512)\n",
      "Progress: 30\n",
      "(4064, 5512) (7510, 5512)\n",
      "Progress: 35\n",
      "(4691, 5512) (8871, 5512)\n",
      "Progress: 40\n",
      "(5285, 5512) (9914, 5512)\n",
      "Progress: 45\n",
      "(5795, 5512) (11160, 5512)\n",
      "Progress: 50\n",
      "(6578, 5512) (12399, 5512)\n",
      "Progress: 55\n",
      "(7004, 5512) (13636, 5512)\n",
      "Progress: 60\n",
      "(7816, 5512) (15052, 5512)\n",
      "Progress: 65\n",
      "(8265, 5512) (16257, 5512)\n",
      "Progress: 70\n",
      "(9097, 5512) (17507, 5512)\n",
      "Progress: 75\n",
      "(9719, 5512) (19015, 5512)\n",
      "Progress: 80\n",
      "(10592, 5512) (20442, 5512)\n",
      "Progress: 85\n",
      "(11115, 5512) (21661, 5512)\n",
      "Progress: 90\n",
      "(12001, 5512) (23139, 5512)\n",
      "Progress: 95\n",
      "(12453, 5512) (24180, 5512)\n"
     ]
    }
   ],
   "source": [
    "for title in range(0,100):\n",
    "    try:\n",
    "        os.chdir(\"/Volumes/TOSHIBA/MSD100/Sources/Dev/\" + Score[title] +\"/\")\n",
    "        x, _ = librosa.load('vocals.wav', sr=sr)\n",
    "        Data = extract_and_reshape(x)\n",
    "        Data_train = np.vstack([Data_train, Data])\n",
    "        Data_test = np.vstack([Data_test, Data])\n",
    "        if title % 5 == 0:\n",
    "            print(\"Progress: \" + str(title))\n",
    "            print(Data_train.shape, Data_test.shape)\n",
    "    except:\n",
    "        os.chdir(\"/Volumes/TOSHIBA/MSD100/Sources/Test/\" + Score[title] + \"/\")\n",
    "        x, _ = librosa.load('vocals.wav', sr=sr)\n",
    "        Data = extract_and_reshape(x)\n",
    "        Data_test = np.vstack([Data_test, Data])\n",
    "        if title % 5 == 0:\n",
    "            print(\"Progress: \" + str(title))\n",
    "            print(Data_train.shape, Data_test.shape)\n",
    "            \n",
    "os.chdir('/Volumes/TOSHIBA/MSD100')\n",
    "np.save(\"Y_Data_test\", Data_test)\n",
    "np.save(\"Y_Data_train\", Data_train)"
   ]
  },
  {
   "cell_type": "code",
   "execution_count": null,
   "metadata": {
    "collapsed": true
   },
   "outputs": [],
   "source": []
  }
 ],
 "metadata": {
  "kernelspec": {
   "display_name": "Python 3",
   "language": "python",
   "name": "python3"
  },
  "language_info": {
   "codemirror_mode": {
    "name": "ipython",
    "version": 3
   },
   "file_extension": ".py",
   "mimetype": "text/x-python",
   "name": "python",
   "nbconvert_exporter": "python",
   "pygments_lexer": "ipython3",
   "version": "3.6.6"
  }
 },
 "nbformat": 4,
 "nbformat_minor": 2
}
