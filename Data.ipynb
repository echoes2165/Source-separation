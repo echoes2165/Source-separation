{
 "cells": [
  {
   "cell_type": "code",
   "execution_count": 1,
   "metadata": {
    "collapsed": true
   },
   "outputs": [],
   "source": [
    "import pandas as pd, numpy as np"
   ]
  },
  {
   "cell_type": "code",
   "execution_count": 4,
   "metadata": {},
   "outputs": [
    {
     "name": "stdout",
     "output_type": "stream",
     "text": [
      "\u001b[30m\u001b[43mMixtures\u001b[m\u001b[m/    \u001b[30m\u001b[43mSources\u001b[m\u001b[m/     \u001b[31mmsd100.txt\u001b[m\u001b[m*  \u001b[31mmsd100.xlsx\u001b[m\u001b[m*\r\n"
     ]
    }
   ],
   "source": [
    "ls"
   ]
  },
  {
   "cell_type": "code",
   "execution_count": 5,
   "metadata": {
    "collapsed": true
   },
   "outputs": [],
   "source": [
    "data = pd.read_excel(\"msd100.xlsx\")"
   ]
  },
  {
   "cell_type": "code",
   "execution_count": 6,
   "metadata": {},
   "outputs": [
    {
     "data": {
      "text/html": [
       "<div>\n",
       "<style>\n",
       "    .dataframe thead tr:only-child th {\n",
       "        text-align: right;\n",
       "    }\n",
       "\n",
       "    .dataframe thead th {\n",
       "        text-align: left;\n",
       "    }\n",
       "\n",
       "    .dataframe tbody tr th {\n",
       "        vertical-align: top;\n",
       "    }\n",
       "</style>\n",
       "<table border=\"1\" class=\"dataframe\">\n",
       "  <thead>\n",
       "    <tr style=\"text-align: right;\">\n",
       "      <th></th>\n",
       "      <th>Name</th>\n",
       "      <th>Style</th>\n",
       "      <th>Duration</th>\n",
       "    </tr>\n",
       "  </thead>\n",
       "  <tbody>\n",
       "    <tr>\n",
       "      <th>0</th>\n",
       "      <td>Actions - Devil's Words</td>\n",
       "      <td>Power Pop</td>\n",
       "      <td>3'17''</td>\n",
       "    </tr>\n",
       "    <tr>\n",
       "      <th>1</th>\n",
       "      <td>Actions - One Minute Smile</td>\n",
       "      <td>Power Pop</td>\n",
       "      <td>2'44''</td>\n",
       "    </tr>\n",
       "    <tr>\n",
       "      <th>2</th>\n",
       "      <td>Actions - South Of The Water</td>\n",
       "      <td>Power Pop</td>\n",
       "      <td>3'11''</td>\n",
       "    </tr>\n",
       "    <tr>\n",
       "      <th>3</th>\n",
       "      <td>Al James - Schoolboy Facination</td>\n",
       "      <td>Bubblegum Pop</td>\n",
       "      <td>3'21''</td>\n",
       "    </tr>\n",
       "    <tr>\n",
       "      <th>4</th>\n",
       "      <td>AM Contra - Heart Peripheral</td>\n",
       "      <td>Electronic Dance Pop</td>\n",
       "      <td>3'30''</td>\n",
       "    </tr>\n",
       "    <tr>\n",
       "      <th>5</th>\n",
       "      <td>Angela Thomas Wade - Milk Cow Blues</td>\n",
       "      <td>Country</td>\n",
       "      <td>3'31''</td>\n",
       "    </tr>\n",
       "    <tr>\n",
       "      <th>6</th>\n",
       "      <td>Angels In Amplifiers - I'm Alright</td>\n",
       "      <td>Smooth Acoustic Rock</td>\n",
       "      <td>3'00''</td>\n",
       "    </tr>\n",
       "    <tr>\n",
       "      <th>7</th>\n",
       "      <td>ANiMAL - Clinic A</td>\n",
       "      <td>UK Hip-Hop</td>\n",
       "      <td>4'05''</td>\n",
       "    </tr>\n",
       "    <tr>\n",
       "      <th>8</th>\n",
       "      <td>ANiMAL - Easy Tiger</td>\n",
       "      <td>UK Hip-Hop</td>\n",
       "      <td>4'15''</td>\n",
       "    </tr>\n",
       "    <tr>\n",
       "      <th>9</th>\n",
       "      <td>ANiMAL - Rockshow</td>\n",
       "      <td>UK Hip-Hop</td>\n",
       "      <td>2'46''</td>\n",
       "    </tr>\n",
       "    <tr>\n",
       "      <th>10</th>\n",
       "      <td>Arise - Run Run Run</td>\n",
       "      <td>Roots Reggae</td>\n",
       "      <td>3'39''</td>\n",
       "    </tr>\n",
       "    <tr>\n",
       "      <th>11</th>\n",
       "      <td>Atlantis Bound - It Was My Fault For Waiting</td>\n",
       "      <td>Widescreen Pop/Rock</td>\n",
       "      <td>4'28''</td>\n",
       "    </tr>\n",
       "    <tr>\n",
       "      <th>12</th>\n",
       "      <td>Ben Carrigan - We'll Talk About It All Tonight</td>\n",
       "      <td>Orchestral Indie Pop</td>\n",
       "      <td>4'15''</td>\n",
       "    </tr>\n",
       "    <tr>\n",
       "      <th>13</th>\n",
       "      <td>Bill Chudziak - Children Of No-one</td>\n",
       "      <td>Classic Psychedelic Rock</td>\n",
       "      <td>3'51''</td>\n",
       "    </tr>\n",
       "    <tr>\n",
       "      <th>14</th>\n",
       "      <td>BKS - Bulldozer</td>\n",
       "      <td>Rock</td>\n",
       "      <td>6'47''</td>\n",
       "    </tr>\n",
       "    <tr>\n",
       "      <th>15</th>\n",
       "      <td>BKS - Too Much</td>\n",
       "      <td>Rock</td>\n",
       "      <td>4'04''</td>\n",
       "    </tr>\n",
       "    <tr>\n",
       "      <th>16</th>\n",
       "      <td>Black Bloc - If You Want Success</td>\n",
       "      <td>Political Funk/Rock</td>\n",
       "      <td>6'39''</td>\n",
       "    </tr>\n",
       "    <tr>\n",
       "      <th>17</th>\n",
       "      <td>Bobby Nobody - Stitch Up</td>\n",
       "      <td>Indie Pop/Rock</td>\n",
       "      <td>3'41''</td>\n",
       "    </tr>\n",
       "    <tr>\n",
       "      <th>18</th>\n",
       "      <td>Buitraker - Revo X</td>\n",
       "      <td>Basque Indie Rock</td>\n",
       "      <td>4'36''</td>\n",
       "    </tr>\n",
       "    <tr>\n",
       "      <th>19</th>\n",
       "      <td>Carlos Gonzalez - A Place For Us</td>\n",
       "      <td>Indie Pop/Rock</td>\n",
       "      <td>4'10''</td>\n",
       "    </tr>\n",
       "    <tr>\n",
       "      <th>20</th>\n",
       "      <td>Chris Durban - Celebrate</td>\n",
       "      <td>Dark Break-based Dance</td>\n",
       "      <td>5'25''</td>\n",
       "    </tr>\n",
       "    <tr>\n",
       "      <th>21</th>\n",
       "      <td>Cnoc An Tursa - Bannockburn</td>\n",
       "      <td>Death Metal</td>\n",
       "      <td>4'54''</td>\n",
       "    </tr>\n",
       "    <tr>\n",
       "      <th>22</th>\n",
       "      <td>Cristina Vane - So Easy</td>\n",
       "      <td>Acoustic Singer-Songwriter</td>\n",
       "      <td>4'14''</td>\n",
       "    </tr>\n",
       "    <tr>\n",
       "      <th>23</th>\n",
       "      <td>Dark Ride - Burning Bridges</td>\n",
       "      <td>Heavy Metal</td>\n",
       "      <td>3'53''</td>\n",
       "    </tr>\n",
       "    <tr>\n",
       "      <th>24</th>\n",
       "      <td>Detsky Sad - Walkie Talkie</td>\n",
       "      <td>Ukrainian Indie Rock</td>\n",
       "      <td>3'10''</td>\n",
       "    </tr>\n",
       "    <tr>\n",
       "      <th>25</th>\n",
       "      <td>Drumtracks - Ghost Bitch</td>\n",
       "      <td>Leftfield Pop/Electronica</td>\n",
       "      <td>5'57''</td>\n",
       "    </tr>\n",
       "    <tr>\n",
       "      <th>26</th>\n",
       "      <td>Enda Reilly - Cur An Long Ag Seol</td>\n",
       "      <td>Irish-Language Singer-Songwriter</td>\n",
       "      <td>3'07''</td>\n",
       "    </tr>\n",
       "    <tr>\n",
       "      <th>27</th>\n",
       "      <td>Fergessen - Back From The Start</td>\n",
       "      <td>Melodic Indie Rock</td>\n",
       "      <td>2'43''</td>\n",
       "    </tr>\n",
       "    <tr>\n",
       "      <th>28</th>\n",
       "      <td>Fergessen - Nos Palpitants</td>\n",
       "      <td>Melodic Indie Rock</td>\n",
       "      <td>3'18''</td>\n",
       "    </tr>\n",
       "    <tr>\n",
       "      <th>29</th>\n",
       "      <td>Fergessen - The Wind</td>\n",
       "      <td>Melodic Indie Rock</td>\n",
       "      <td>3'12''</td>\n",
       "    </tr>\n",
       "    <tr>\n",
       "      <th>...</th>\n",
       "      <td>...</td>\n",
       "      <td>...</td>\n",
       "      <td>...</td>\n",
       "    </tr>\n",
       "    <tr>\n",
       "      <th>70</th>\n",
       "      <td>Skelpolu - Human Mistakes</td>\n",
       "      <td>Drum &amp; Bass</td>\n",
       "      <td>5'13''</td>\n",
       "    </tr>\n",
       "    <tr>\n",
       "      <th>71</th>\n",
       "      <td>Skelpolu - Resurrection</td>\n",
       "      <td>Drum &amp; Bass</td>\n",
       "      <td>6'30''</td>\n",
       "    </tr>\n",
       "    <tr>\n",
       "      <th>72</th>\n",
       "      <td>Skelpolu - Together Alone</td>\n",
       "      <td>Drum &amp; Bass</td>\n",
       "      <td>5'20''</td>\n",
       "    </tr>\n",
       "    <tr>\n",
       "      <th>73</th>\n",
       "      <td>Speak Softly - Broken Man</td>\n",
       "      <td>Atmospheric Electronic Pop</td>\n",
       "      <td>4'07''</td>\n",
       "    </tr>\n",
       "    <tr>\n",
       "      <th>74</th>\n",
       "      <td>Speak Softly - Like Horses</td>\n",
       "      <td>Atmospheric Electronic Pop</td>\n",
       "      <td>5'01''</td>\n",
       "    </tr>\n",
       "    <tr>\n",
       "      <th>75</th>\n",
       "      <td>Spike Mullings - Mike's Sulking</td>\n",
       "      <td>Indie Rock</td>\n",
       "      <td>4'08''</td>\n",
       "    </tr>\n",
       "    <tr>\n",
       "      <th>76</th>\n",
       "      <td>St Vitus - Word Gets Around</td>\n",
       "      <td>Indie Singer-Songwriter</td>\n",
       "      <td>4'07''</td>\n",
       "    </tr>\n",
       "    <tr>\n",
       "      <th>77</th>\n",
       "      <td>Swinging Steaks - Lost My Way</td>\n",
       "      <td>Country Rock</td>\n",
       "      <td>4'58''</td>\n",
       "    </tr>\n",
       "    <tr>\n",
       "      <th>78</th>\n",
       "      <td>The Doppler Shift - Atrophy</td>\n",
       "      <td>Epic Indie Rock</td>\n",
       "      <td>5'31''</td>\n",
       "    </tr>\n",
       "    <tr>\n",
       "      <th>79</th>\n",
       "      <td>The Long Wait - Back Home To Blue</td>\n",
       "      <td>Country Rock</td>\n",
       "      <td>4'15''</td>\n",
       "    </tr>\n",
       "    <tr>\n",
       "      <th>80</th>\n",
       "      <td>The Long Wait - Dark Horses</td>\n",
       "      <td>Country Rock</td>\n",
       "      <td>4'54''</td>\n",
       "    </tr>\n",
       "    <tr>\n",
       "      <th>81</th>\n",
       "      <td>The Mountaineering Club - Mallory</td>\n",
       "      <td>Atmospheric Indie Pop</td>\n",
       "      <td>4'04''</td>\n",
       "    </tr>\n",
       "    <tr>\n",
       "      <th>82</th>\n",
       "      <td>The Sunshine Garcia Band - For I Am The Moon</td>\n",
       "      <td>Reggae/Gospel</td>\n",
       "      <td>5'08''</td>\n",
       "    </tr>\n",
       "    <tr>\n",
       "      <th>83</th>\n",
       "      <td>The Wrong'Uns - Rothko</td>\n",
       "      <td>Acoustic Indie Pop</td>\n",
       "      <td>3'22''</td>\n",
       "    </tr>\n",
       "    <tr>\n",
       "      <th>84</th>\n",
       "      <td>Tim Taler - Stalker</td>\n",
       "      <td>Ukrainian Art-Punk</td>\n",
       "      <td>3'34''</td>\n",
       "    </tr>\n",
       "    <tr>\n",
       "      <th>85</th>\n",
       "      <td>Timboz - Pony</td>\n",
       "      <td>Screamo Metal</td>\n",
       "      <td>4'07''</td>\n",
       "    </tr>\n",
       "    <tr>\n",
       "      <th>86</th>\n",
       "      <td>Titanium - Haunted Age</td>\n",
       "      <td>Black Metal</td>\n",
       "      <td>3'56''</td>\n",
       "    </tr>\n",
       "    <tr>\n",
       "      <th>87</th>\n",
       "      <td>Tom McKenzie - Directions</td>\n",
       "      <td>Acoustic Singer-Songwriter</td>\n",
       "      <td>2'56''</td>\n",
       "    </tr>\n",
       "    <tr>\n",
       "      <th>88</th>\n",
       "      <td>Traffic Experiment - Once More (With Feeling)</td>\n",
       "      <td>Melodic Alt Rock</td>\n",
       "      <td>6'57''</td>\n",
       "    </tr>\n",
       "    <tr>\n",
       "      <th>89</th>\n",
       "      <td>Traffic Experiment - Sirens</td>\n",
       "      <td>Melodic Alt Rock</td>\n",
       "      <td>6'55''</td>\n",
       "    </tr>\n",
       "    <tr>\n",
       "      <th>90</th>\n",
       "      <td>Triviul - Angelsaint</td>\n",
       "      <td>Leftfield Pop/Electronica</td>\n",
       "      <td>3'51''</td>\n",
       "    </tr>\n",
       "    <tr>\n",
       "      <th>91</th>\n",
       "      <td>Triviul - Dorothy</td>\n",
       "      <td>Leftfield Pop/Electronica</td>\n",
       "      <td>3'01''</td>\n",
       "    </tr>\n",
       "    <tr>\n",
       "      <th>92</th>\n",
       "      <td>Triviul feat. The Fiend - Widow</td>\n",
       "      <td>Urban R&amp;B/Pop</td>\n",
       "      <td>3'43''</td>\n",
       "    </tr>\n",
       "    <tr>\n",
       "      <th>93</th>\n",
       "      <td>Voelund - Comfort Lives In Belief</td>\n",
       "      <td>Laid-back Blues-Rock</td>\n",
       "      <td>3'18''</td>\n",
       "    </tr>\n",
       "    <tr>\n",
       "      <th>94</th>\n",
       "      <td>Wall Of Death - Femme</td>\n",
       "      <td>Black Metal</td>\n",
       "      <td>3'47''</td>\n",
       "    </tr>\n",
       "    <tr>\n",
       "      <th>95</th>\n",
       "      <td>We Fell From The Sky - Not You</td>\n",
       "      <td>High-Energy Heavy Rock</td>\n",
       "      <td>3'28''</td>\n",
       "    </tr>\n",
       "    <tr>\n",
       "      <th>96</th>\n",
       "      <td>Young Griffo - Blood To Bone</td>\n",
       "      <td>Anthemic Heavy Rock</td>\n",
       "      <td>4'03''</td>\n",
       "    </tr>\n",
       "    <tr>\n",
       "      <th>97</th>\n",
       "      <td>Young Griffo - Facade</td>\n",
       "      <td>Anthemic Heavy Rock</td>\n",
       "      <td>2'48''</td>\n",
       "    </tr>\n",
       "    <tr>\n",
       "      <th>98</th>\n",
       "      <td>Young Griffo - Pennies</td>\n",
       "      <td>Anthemic Heavy Rock</td>\n",
       "      <td>4'26''</td>\n",
       "    </tr>\n",
       "    <tr>\n",
       "      <th>99</th>\n",
       "      <td>Zeno - Signs</td>\n",
       "      <td>Epic Indie Rock</td>\n",
       "      <td>3'54''</td>\n",
       "    </tr>\n",
       "  </tbody>\n",
       "</table>\n",
       "<p>100 rows × 3 columns</p>\n",
       "</div>"
      ],
      "text/plain": [
       "                                              Name  \\\n",
       "0                          Actions - Devil's Words   \n",
       "1                       Actions - One Minute Smile   \n",
       "2                     Actions - South Of The Water   \n",
       "3                  Al James - Schoolboy Facination   \n",
       "4                     AM Contra - Heart Peripheral   \n",
       "5              Angela Thomas Wade - Milk Cow Blues   \n",
       "6               Angels In Amplifiers - I'm Alright   \n",
       "7                                ANiMAL - Clinic A   \n",
       "8                              ANiMAL - Easy Tiger   \n",
       "9                                ANiMAL - Rockshow   \n",
       "10                             Arise - Run Run Run   \n",
       "11    Atlantis Bound - It Was My Fault For Waiting   \n",
       "12  Ben Carrigan - We'll Talk About It All Tonight   \n",
       "13              Bill Chudziak - Children Of No-one   \n",
       "14                                 BKS - Bulldozer   \n",
       "15                                  BKS - Too Much   \n",
       "16                Black Bloc - If You Want Success   \n",
       "17                        Bobby Nobody - Stitch Up   \n",
       "18                              Buitraker - Revo X   \n",
       "19                Carlos Gonzalez - A Place For Us   \n",
       "20                        Chris Durban - Celebrate   \n",
       "21                     Cnoc An Tursa - Bannockburn   \n",
       "22                         Cristina Vane - So Easy   \n",
       "23                     Dark Ride - Burning Bridges   \n",
       "24                      Detsky Sad - Walkie Talkie   \n",
       "25                        Drumtracks - Ghost Bitch   \n",
       "26               Enda Reilly - Cur An Long Ag Seol   \n",
       "27                 Fergessen - Back From The Start   \n",
       "28                      Fergessen - Nos Palpitants   \n",
       "29                            Fergessen - The Wind   \n",
       "..                                             ...   \n",
       "70                       Skelpolu - Human Mistakes   \n",
       "71                         Skelpolu - Resurrection   \n",
       "72                       Skelpolu - Together Alone   \n",
       "73                       Speak Softly - Broken Man   \n",
       "74                      Speak Softly - Like Horses   \n",
       "75                 Spike Mullings - Mike's Sulking   \n",
       "76                     St Vitus - Word Gets Around   \n",
       "77                   Swinging Steaks - Lost My Way   \n",
       "78                     The Doppler Shift - Atrophy   \n",
       "79               The Long Wait - Back Home To Blue   \n",
       "80                     The Long Wait - Dark Horses   \n",
       "81               The Mountaineering Club - Mallory   \n",
       "82    The Sunshine Garcia Band - For I Am The Moon   \n",
       "83                          The Wrong'Uns - Rothko   \n",
       "84                             Tim Taler - Stalker   \n",
       "85                                   Timboz - Pony   \n",
       "86                          Titanium - Haunted Age   \n",
       "87                       Tom McKenzie - Directions   \n",
       "88   Traffic Experiment - Once More (With Feeling)   \n",
       "89                     Traffic Experiment - Sirens   \n",
       "90                            Triviul - Angelsaint   \n",
       "91                               Triviul - Dorothy   \n",
       "92                 Triviul feat. The Fiend - Widow   \n",
       "93               Voelund - Comfort Lives In Belief   \n",
       "94                           Wall Of Death - Femme   \n",
       "95                  We Fell From The Sky - Not You   \n",
       "96                    Young Griffo - Blood To Bone   \n",
       "97                           Young Griffo - Facade   \n",
       "98                          Young Griffo - Pennies   \n",
       "99                                    Zeno - Signs   \n",
       "\n",
       "                               Style Duration  \n",
       "0                          Power Pop   3'17''  \n",
       "1                          Power Pop   2'44''  \n",
       "2                          Power Pop   3'11''  \n",
       "3                      Bubblegum Pop   3'21''  \n",
       "4               Electronic Dance Pop   3'30''  \n",
       "5                            Country   3'31''  \n",
       "6               Smooth Acoustic Rock   3'00''  \n",
       "7                         UK Hip-Hop   4'05''  \n",
       "8                         UK Hip-Hop   4'15''  \n",
       "9                         UK Hip-Hop   2'46''  \n",
       "10                      Roots Reggae   3'39''  \n",
       "11               Widescreen Pop/Rock   4'28''  \n",
       "12              Orchestral Indie Pop   4'15''  \n",
       "13          Classic Psychedelic Rock   3'51''  \n",
       "14                              Rock   6'47''  \n",
       "15                              Rock   4'04''  \n",
       "16               Political Funk/Rock   6'39''  \n",
       "17                    Indie Pop/Rock   3'41''  \n",
       "18                 Basque Indie Rock   4'36''  \n",
       "19                    Indie Pop/Rock   4'10''  \n",
       "20            Dark Break-based Dance   5'25''  \n",
       "21                       Death Metal   4'54''  \n",
       "22        Acoustic Singer-Songwriter   4'14''  \n",
       "23                       Heavy Metal   3'53''  \n",
       "24              Ukrainian Indie Rock   3'10''  \n",
       "25         Leftfield Pop/Electronica   5'57''  \n",
       "26  Irish-Language Singer-Songwriter   3'07''  \n",
       "27                Melodic Indie Rock   2'43''  \n",
       "28                Melodic Indie Rock   3'18''  \n",
       "29                Melodic Indie Rock   3'12''  \n",
       "..                               ...      ...  \n",
       "70                       Drum & Bass   5'13''  \n",
       "71                       Drum & Bass   6'30''  \n",
       "72                       Drum & Bass   5'20''  \n",
       "73        Atmospheric Electronic Pop   4'07''  \n",
       "74        Atmospheric Electronic Pop   5'01''  \n",
       "75                        Indie Rock   4'08''  \n",
       "76           Indie Singer-Songwriter   4'07''  \n",
       "77                      Country Rock   4'58''  \n",
       "78                   Epic Indie Rock   5'31''  \n",
       "79                      Country Rock   4'15''  \n",
       "80                      Country Rock   4'54''  \n",
       "81             Atmospheric Indie Pop   4'04''  \n",
       "82                     Reggae/Gospel   5'08''  \n",
       "83                Acoustic Indie Pop   3'22''  \n",
       "84                Ukrainian Art-Punk   3'34''  \n",
       "85                     Screamo Metal   4'07''  \n",
       "86                       Black Metal   3'56''  \n",
       "87        Acoustic Singer-Songwriter   2'56''  \n",
       "88                  Melodic Alt Rock   6'57''  \n",
       "89                  Melodic Alt Rock   6'55''  \n",
       "90         Leftfield Pop/Electronica   3'51''  \n",
       "91         Leftfield Pop/Electronica   3'01''  \n",
       "92                     Urban R&B/Pop   3'43''  \n",
       "93              Laid-back Blues-Rock   3'18''  \n",
       "94                       Black Metal   3'47''  \n",
       "95            High-Energy Heavy Rock   3'28''  \n",
       "96               Anthemic Heavy Rock   4'03''  \n",
       "97               Anthemic Heavy Rock   2'48''  \n",
       "98               Anthemic Heavy Rock   4'26''  \n",
       "99                   Epic Indie Rock   3'54''  \n",
       "\n",
       "[100 rows x 3 columns]"
      ]
     },
     "execution_count": 6,
     "metadata": {},
     "output_type": "execute_result"
    }
   ],
   "source": [
    "data"
   ]
  },
  {
   "cell_type": "markdown",
   "metadata": {},
   "source": [
    "### Accessing files from multiple folders"
   ]
  },
  {
   "cell_type": "markdown",
   "metadata": {},
   "source": [
    "Let's upload a single track first."
   ]
  },
  {
   "cell_type": "code",
   "execution_count": 7,
   "metadata": {
    "collapsed": true
   },
   "outputs": [],
   "source": [
    "import librosa, IPython.display as ipd "
   ]
  },
  {
   "cell_type": "code",
   "execution_count": 30,
   "metadata": {},
   "outputs": [
    {
     "name": "stdout",
     "output_type": "stream",
     "text": [
      "\u001b[31mbass.wav\u001b[m\u001b[m*   \u001b[31mdrums.wav\u001b[m\u001b[m*  \u001b[31mother.wav\u001b[m\u001b[m*  \u001b[31mvocals.wav\u001b[m\u001b[m*\r\n"
     ]
    }
   ],
   "source": [
    "ls"
   ]
  },
  {
   "cell_type": "code",
   "execution_count": 18,
   "metadata": {},
   "outputs": [],
   "source": [
    "x, sr = librosa.load('mixture.wav')"
   ]
  },
  {
   "cell_type": "code",
   "execution_count": null,
   "metadata": {
    "collapsed": true
   },
   "outputs": [],
   "source": [
    "# figure out how to \n",
    "# check the lengths of tracks in test and train sets"
   ]
  },
  {
   "cell_type": "code",
   "execution_count": 20,
   "metadata": {},
   "outputs": [
    {
     "data": {
      "text/plain": [
       "210.09301587301587"
      ]
     },
     "execution_count": 20,
     "metadata": {},
     "output_type": "execute_result"
    }
   ],
   "source": [
    "x.shape[0]/22050"
   ]
  },
  {
   "cell_type": "code",
   "execution_count": 31,
   "metadata": {
    "collapsed": true
   },
   "outputs": [],
   "source": [
    "y, _ = librosa.load('bass.wav')\n",
    "f, _ = librosa.load('drums.wav')\n",
    "g, _ = librosa.load('other.wav')\n",
    "h, _ = librosa.load('vocals.wav')"
   ]
  },
  {
   "cell_type": "code",
   "execution_count": 78,
   "metadata": {},
   "outputs": [
    {
     "name": "stdout",
     "output_type": "stream",
     "text": [
      "4632551 4632551 4632551 4632551\n"
     ]
    }
   ],
   "source": [
    "print(y.shape[0], f.shape[0], g.shape[0], h.shape[0])"
   ]
  },
  {
   "cell_type": "code",
   "execution_count": null,
   "metadata": {
    "collapsed": true
   },
   "outputs": [],
   "source": [
    "# I want to create an array of zeros with dimensions 44100xlengths in seconds + 1, \n",
    "# and than overwrite each row with data"
   ]
  },
  {
   "cell_type": "code",
   "execution_count": 46,
   "metadata": {},
   "outputs": [
    {
     "name": "stdout",
     "output_type": "stream",
     "text": [
      "1075\n"
     ]
    }
   ],
   "source": [
    "duration = (np.int(x.shape[0]/22050) + 5) *5\n",
    "print(duration)"
   ]
  },
  {
   "cell_type": "code",
   "execution_count": 33,
   "metadata": {
    "collapsed": true
   },
   "outputs": [],
   "source": [
    "data_train = np.zeros(shape=(duration,4410))"
   ]
  },
  {
   "cell_type": "code",
   "execution_count": 34,
   "metadata": {},
   "outputs": [
    {
     "data": {
      "text/plain": [
       "(211, 4410)"
      ]
     },
     "execution_count": 34,
     "metadata": {},
     "output_type": "execute_result"
    }
   ],
   "source": [
    "data_train.shape"
   ]
  },
  {
   "cell_type": "code",
   "execution_count": 36,
   "metadata": {},
   "outputs": [
    {
     "data": {
      "text/plain": [
       "numpy.ndarray"
      ]
     },
     "execution_count": 36,
     "metadata": {},
     "output_type": "execute_result"
    }
   ],
   "source": [
    "type(x)"
   ]
  },
  {
   "cell_type": "code",
   "execution_count": 32,
   "metadata": {},
   "outputs": [
    {
     "ename": "NameError",
     "evalue": "name 'duration' is not defined",
     "output_type": "error",
     "traceback": [
      "\u001b[0;31m---------------------------------------------------------------------------\u001b[0m",
      "\u001b[0;31mNameError\u001b[0m                                 Traceback (most recent call last)",
      "\u001b[0;32m<ipython-input-32-9c5183c46856>\u001b[0m in \u001b[0;36m<module>\u001b[0;34m()\u001b[0m\n\u001b[0;32m----> 1\u001b[0;31m \u001b[0mdata_array\u001b[0m \u001b[0;34m=\u001b[0m \u001b[0mnp\u001b[0m\u001b[0;34m.\u001b[0m\u001b[0mreshape\u001b[0m\u001b[0;34m(\u001b[0m\u001b[0mx\u001b[0m\u001b[0;34m,\u001b[0m\u001b[0mnewshape\u001b[0m\u001b[0;34m=\u001b[0m\u001b[0;34m(\u001b[0m\u001b[0mduration\u001b[0m\u001b[0;34m,\u001b[0m\u001b[0;36m4410\u001b[0m\u001b[0;34m)\u001b[0m\u001b[0;34m)\u001b[0m\u001b[0;34m\u001b[0m\u001b[0m\n\u001b[0m",
      "\u001b[0;31mNameError\u001b[0m: name 'duration' is not defined"
     ]
    }
   ],
   "source": [
    "data_array = np.reshape(x,newshape=(duration,4410))"
   ]
  },
  {
   "cell_type": "code",
   "execution_count": 48,
   "metadata": {},
   "outputs": [
    {
     "data": {
      "text/plain": [
       "19999"
      ]
     },
     "execution_count": 48,
     "metadata": {},
     "output_type": "execute_result"
    }
   ],
   "source": []
  },
  {
   "cell_type": "code",
   "execution_count": null,
   "metadata": {
    "collapsed": true
   },
   "outputs": [],
   "source": []
  }
 ],
 "metadata": {
  "kernelspec": {
   "display_name": "Python 3",
   "language": "python",
   "name": "python3"
  },
  "language_info": {
   "codemirror_mode": {
    "name": "ipython",
    "version": 3
   },
   "file_extension": ".py",
   "mimetype": "text/x-python",
   "name": "python",
   "nbconvert_exporter": "python",
   "pygments_lexer": "ipython3",
   "version": "3.6.6"
  }
 },
 "nbformat": 4,
 "nbformat_minor": 2
}
